{
 "cells": [
  {
   "cell_type": "code",
   "execution_count": 1,
   "metadata": {},
   "outputs": [
    {
     "data": {
      "text/plain": [
       "2"
      ]
     },
     "execution_count": 1,
     "metadata": {},
     "output_type": "execute_result"
    }
   ],
   "source": [
    "1 + 1"
   ]
  },
  {
   "cell_type": "code",
   "execution_count": 15,
   "metadata": {},
   "outputs": [],
   "source": [
    "#importing required values from .env file\n",
    "import os\n",
    "from dotenv import load_dotenv\n",
    "load_dotenv()\n",
    "\n",
    "os.environ['OPENAI_API_KEY'] = os.getenv('OPENAI_API_KEY')"
   ]
  },
  {
   "cell_type": "code",
   "execution_count": 16,
   "metadata": {},
   "outputs": [],
   "source": [
    "from langchain_openai import ChatOpenAI\n",
    "model = ChatOpenAI(model=\"gpt-4o\")"
   ]
  },
  {
   "cell_type": "code",
   "execution_count": 17,
   "metadata": {},
   "outputs": [
    {
     "data": {
      "text/plain": [
       "'Hello! How can I assist you today?'"
      ]
     },
     "execution_count": 17,
     "metadata": {},
     "output_type": "execute_result"
    }
   ],
   "source": [
    "result = model.invoke(\"Hello\")\n",
    "result.content"
   ]
  },
  {
   "cell_type": "code",
   "execution_count": 18,
   "metadata": {},
   "outputs": [],
   "source": [
    "#creating an agent graph to create a blog generator\n",
    "\n",
    "from typing_extensions import TypedDict\n",
    "from langchain_core.messages import HumanMessage,SystemMessage\n",
    "from typing import Annotated\n",
    "from langchain_core.messages import AnyMessage\n",
    "from langgraph.graph.message import add_messages\n"
   ]
  },
  {
   "cell_type": "code",
   "execution_count": 27,
   "metadata": {},
   "outputs": [],
   "source": [
    "#class to manage the state\n",
    "class MessageState(TypedDict):\n",
    "    messages:Annotated[list[AnyMessage],add_messages]"
   ]
  },
  {
   "cell_type": "code",
   "execution_count": 30,
   "metadata": {},
   "outputs": [
    {
     "data": {
      "image/png": "[encoded data removed]",
      "text/plain": [
       "<IPython.core.display.Image object>"
      ]
     },
     "metadata": {},
     "output_type": "display_data"
    }
   ],
   "source": [
    "#creating agents\n",
    "\n",
    "#generate title\n",
    "# System message\n",
    "sys_msg_title = SystemMessage(content=\"You are a helpful assistant tasked with generating suitable title for the requested information.\")\n",
    "def generate_title(state:MessageState):\n",
    "    \n",
    "    return {\"messages\": [model.invoke([sys_msg_title] + state[\"messages\"])]}\n",
    "#generate content\n",
    "# System message\n",
    "sys_msg_content = SystemMessage(content=\"You are a helpful assistant tasked with generating content for the requested information.\")\n",
    "def generate_content(state:MessageState):\n",
    "    return {\"messages\": [model.invoke([sys_msg_content]+state[\"messages\"])]}\n",
    "from langgraph.graph import START,END,StateGraph\n",
    "from IPython.display import Image, display\n",
    "builder = StateGraph(MessageState)\n",
    "\n",
    "builder.add_node(\"generate_title\",generate_title)\n",
    "builder.add_node(\"generate_content\",generate_content)\n",
    "\n",
    "#adding edges\n",
    "\n",
    "builder.add_edge(START,\"generate_title\")\n",
    "builder.add_edge(\"generate_title\",\"generate_content\")\n",
    "builder.add_edge(\"generate_content\",END)\n",
    "\n",
    "Agent_blog_generator = builder.compile()\n",
    "\n",
    "#view the graph\n",
    "display(Image(Agent_blog_generator.get_graph().draw_mermaid_png()))"
   ]
  },
  {
   "cell_type": "code",
   "execution_count": 31,
   "metadata": {},
   "outputs": [],
   "source": [
    "messages = [HumanMessage(content=\"What is Machine Learning?\")]\n",
    "messages = Agent_blog_generator.invoke({\"messages\": messages})"
   ]
  },
  {
   "cell_type": "code",
   "execution_count": 33,
   "metadata": {},
   "outputs": [
    {
     "name": "stdout",
     "output_type": "stream",
     "text": [
      "================================\u001b[1m Human Message \u001b[0m=================================\n",
      "\n",
      "What is Machine Learning?\n",
      "==================================\u001b[1m Ai Message \u001b[0m==================================\n",
      "\n",
      "\"Introduction to Machine Learning: Concepts and Applications\"\n",
      "==================================\u001b[1m Ai Message \u001b[0m==================================\n",
      "\n",
      "Machine Learning (ML) is a subset of artificial intelligence (AI) that focuses on the development of algorithms and statistical models that enable computers to perform specific tasks without using explicit instructions. Instead, ML systems learn patterns and insights from data, which allows them to improve their performance automatically through experience.\n",
      "\n",
      "### Key Concepts:\n",
      "\n",
      "1. **Data**: The foundation of machine learning, data is used to train models. It can be structured (like databases) or unstructured (such as images or text).\n",
      "\n",
      "2. **Algorithms**: These are the mathematical models and processes used to identify patterns within data. They enable predictions or decisions based on new data inputs.\n",
      "\n",
      "3. **Training**: This involves feeding data into a machine learning algorithm to help it learn the relationships within the data.\n",
      "\n",
      "4. **Models**: A model is the output of a machine learning algorithm after it has been trained on data. It represents the learned patterns and can be used to make predictions.\n",
      "\n",
      "5. **Features**: These are individual, measurable properties or characteristics of the phenomena being observed. Engineers select features carefully to improve the model's accuracy.\n",
      "\n",
      "6. **Overfitting and Underfitting**: Overfitting occurs when a model is too complex and captures noise rather than the intended outputs. Underfitting happens when a model is too simple to capture the underlying trend in the data.\n",
      "\n",
      "7. **Supervised Learning**: This type of learning occurs when the model is trained on a labeled dataset, meaning that each training example is paired with an output label. Common techniques include regression and classification.\n",
      "\n",
      "8. **Unsupervised Learning**: The model is trained using data without labels, and the system tries to learn the patterns and structure from the data on its own. Clustering and association are common techniques.\n",
      "\n",
      "9. **Reinforcement Learning**: A type of learning where an agent learns to make decisions by taking actions in an environment to achieve the highest cumulative reward.\n",
      "\n",
      "### Applications:\n",
      "\n",
      "- **Image and Speech Recognition**: Used in facial recognition systems and virtual assistants.\n",
      "- **Recommendation Systems**: Suggest products or services based on user behavior, like Netflix or Amazon recommendations.\n",
      "- **Fraud Detection**: Identifies potential fraudulent activities by recognizing unusual patterns in transactions.\n",
      "- **Autonomous Vehicles**: Machine learning facilitates decision-making processes crucial for the operation of self-driving cars.\n",
      "\n",
      "### Importance:\n",
      "\n",
      "Machine learning is revolutionizing industries by enabling more personalized and insightful experiences. By mimicking human learning and improving over time, it allows businesses and applications to make data-driven decisions with high accuracy.\n",
      "\n",
      "Machine learning continues to evolve, and its ability to enhance data processing and pattern recognition will further impact various sectors, driving innovation and efficiency.\n"
     ]
    }
   ],
   "source": [
    "for m in messages['messages']:\n",
    "    m.pretty_print()"
   ]
  }
 ],
 "metadata": {
  "kernelspec": {
   "display_name": "Python 3",
   "language": "python",
   "name": "python3"
  },
  "language_info": {
   "codemirror_mode": {
    "name": "ipython",
    "version": 3
   },
   "file_extension": ".py",
   "mimetype": "text/x-python",
   "name": "python",
   "nbconvert_exporter": "python",
   "pygments_lexer": "ipython3",
   "version": "3.12.0"
  }
 },
 "nbformat": 4,
 "nbformat_minor": 2
}
